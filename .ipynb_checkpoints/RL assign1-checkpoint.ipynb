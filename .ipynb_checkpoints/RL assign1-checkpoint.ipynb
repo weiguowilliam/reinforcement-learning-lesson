{
 "cells": [
  {
   "cell_type": "markdown",
   "metadata": {},
   "source": [
    "# Question 7 "
   ]
  },
  {
   "cell_type": "code",
   "execution_count": 78,
   "metadata": {
    "collapsed": true
   },
   "outputs": [],
   "source": [
    "import random\n",
    "random.seed(1)"
   ]
  },
  {
   "cell_type": "code",
   "execution_count": 79,
   "metadata": {
    "collapsed": true
   },
   "outputs": [],
   "source": [
    "class Student(object):\n",
    "    y = 1 # y is discounting rate\n",
    "    \n",
    "    def __init__(self):\n",
    "        self.s = \"class1\"\n",
    "        self.r = -2\n",
    "        self.end = False\n",
    "        self.reset()\n",
    "        \n",
    "    def step(self):\n",
    "        \"\"\"\n",
    "        one step of student from one state(s) to another state\n",
    "        \"\"\"\n",
    "        if self.s == \"class1\":\n",
    "            if random.random()<=0.5:\n",
    "                self.s = \"class2\"\n",
    "                self.r += -2\n",
    "            else:\n",
    "                self.s = \"facebook\"\n",
    "                self.r += -1\n",
    "        elif self.s == \"facebook\":\n",
    "            if random.random()<=0.9:\n",
    "                self.s= \"facebook\"\n",
    "                self.r += -1\n",
    "            else:\n",
    "                self.s = \"class1\"\n",
    "                self.r += -2\n",
    "        elif self.s == \"class2\":\n",
    "            if random.random()<=0.9:\n",
    "                self.s = \"class3\"\n",
    "                self.r += -2\n",
    "            else:\n",
    "                self.s = \"sleep\"\n",
    "                self.r += 0\n",
    "                self.end = True\n",
    "        elif self.s == \"class3\":\n",
    "            if random.random()<=0.6:\n",
    "                self.s = \"pass\"\n",
    "                self.r += 10\n",
    "            else:\n",
    "                self.s = \"pub\"\n",
    "                self.r += 1\n",
    "        elif self.s == \"pub\":\n",
    "            if random.random()<=0.4:\n",
    "                self.s = \"class3\"\n",
    "                self.r += -2\n",
    "            elif (random.random()>0.4) and (random.random()<=0.8):\n",
    "                self.s = \"class2\"\n",
    "                self.r += -2\n",
    "            else:\n",
    "                self.s = \"class1\"\n",
    "                self.r += -2\n",
    "        elif self.s == \"pass\":\n",
    "            self.s = \"sleep\"\n",
    "            self.r += 0\n",
    "            self.end = True\n",
    "        elif self.s == \"sleep\":\n",
    "            self.end = True\n",
    "        else:\n",
    "            raise Exception(\"ERROR: Undefined transition!\")\n",
    "            \n",
    "    def reset(self):\n",
    "        \"\"\"\n",
    "        reset the mrp\n",
    "        \"\"\"\n",
    "        self.s = \"class1\"\n",
    "        self.r = -2"
   ]
  },
  {
   "cell_type": "code",
   "execution_count": 80,
   "metadata": {
    "collapsed": true,
    "scrolled": true
   },
   "outputs": [],
   "source": [
    "def episode(s):\n",
    "    while s.end==False:\n",
    "        print(\"the state is \"+ s.s)\n",
    "        print(\"the return now is \" + str(s.r))\n",
    "        s.step()\n",
    "    print(\"The final return is \"+str(s.r))\n",
    "    \n",
    "\n",
    "# while(s1.end==False):\n",
    "#     print(s1.s)\n",
    "#     s1.step()\n",
    "\n",
    "# print(s1.r)"
   ]
  },
  {
   "cell_type": "code",
   "execution_count": 81,
   "metadata": {},
   "outputs": [
    {
     "name": "stdout",
     "output_type": "stream",
     "text": [
      "the state is class1\n",
      "the return now is -2\n",
      "the state is class2\n",
      "the return now is -4\n",
      "the state is class3\n",
      "the return now is -6\n",
      "the state is pub\n",
      "the return now is -5\n",
      "the state is class3\n",
      "the return now is -7\n",
      "the state is pass\n",
      "the return now is 3\n",
      "The final return is 3\n"
     ]
    }
   ],
   "source": [
    "s1 = Student();\n",
    "episode(s1)"
   ]
  },
  {
   "cell_type": "code",
   "execution_count": 82,
   "metadata": {},
   "outputs": [
    {
     "name": "stdout",
     "output_type": "stream",
     "text": [
      "the state is class1\n",
      "the return now is -2\n",
      "the state is class2\n",
      "the return now is -4\n",
      "the state is class3\n",
      "the return now is -6\n",
      "the state is pub\n",
      "the return now is -5\n",
      "the state is class3\n",
      "the return now is -7\n",
      "the state is pass\n",
      "the return now is 3\n",
      "The final return is 3\n"
     ]
    }
   ],
   "source": [
    "s2 = Student();\n",
    "episode(s2)"
   ]
  },
  {
   "cell_type": "code",
   "execution_count": 83,
   "metadata": {},
   "outputs": [
    {
     "name": "stdout",
     "output_type": "stream",
     "text": [
      "the state is class1\n",
      "the return now is -2\n",
      "the state is facebook\n",
      "the return now is -3\n",
      "the state is facebook\n",
      "the return now is -4\n",
      "the state is facebook\n",
      "the return now is -5\n",
      "the state is facebook\n",
      "the return now is -6\n",
      "the state is facebook\n",
      "the return now is -7\n",
      "the state is facebook\n",
      "the return now is -8\n",
      "the state is facebook\n",
      "the return now is -9\n",
      "the state is class1\n",
      "the return now is -11\n",
      "the state is facebook\n",
      "the return now is -12\n",
      "the state is facebook\n",
      "the return now is -13\n",
      "the state is facebook\n",
      "the return now is -14\n",
      "the state is facebook\n",
      "the return now is -15\n",
      "the state is class1\n",
      "the return now is -17\n",
      "the state is class2\n",
      "the return now is -19\n",
      "the state is class3\n",
      "the return now is -21\n",
      "the state is pass\n",
      "the return now is -11\n",
      "The final return is -11\n"
     ]
    }
   ],
   "source": [
    "s3 = Student();\n",
    "episode(s3)"
   ]
  },
  {
   "cell_type": "markdown",
   "metadata": {},
   "source": [
    "# Question 8"
   ]
  },
  {
   "cell_type": "code",
   "execution_count": 84,
   "metadata": {
    "collapsed": true
   },
   "outputs": [],
   "source": [
    "import random\n",
    "random.seed(1)"
   ]
  },
  {
   "cell_type": "code",
   "execution_count": 85,
   "metadata": {
    "collapsed": true
   },
   "outputs": [],
   "source": [
    "class Student2(object):\n",
    "    y = 1 # y is discounting rate\n",
    "    \n",
    "    def __init__(self):\n",
    "        self.s = \"class1\"\n",
    "        self.r = 0\n",
    "        self.a = None\n",
    "        self.end = False\n",
    "        self.reset()\n",
    "        \n",
    "    def step(self):\n",
    "        \"\"\"\n",
    "        one step of student from one state(s) to another state\n",
    "        \"\"\"\n",
    "        if self.s == \"class1\":\n",
    "            if random.random()<=0.5:\n",
    "                self.a = \"study\"\n",
    "                self.s = \"class2\"\n",
    "                self.r += -2\n",
    "            else:\n",
    "                self.a = \"relax\"\n",
    "                self.s = \"facebook\"\n",
    "                self.r += -1\n",
    "        elif self.s == \"facebook\":\n",
    "            if random.random()<=0.5:\n",
    "                self.a = \"relax\"\n",
    "                self.s= \"facebook\"\n",
    "                self.r += -1\n",
    "            else:\n",
    "                self.a = \"study\"\n",
    "                self.s = \"class1\"\n",
    "                self.r += 0\n",
    "        elif self.s == \"class2\":\n",
    "            if random.random()<=0.5:\n",
    "                self.a = \"study\"\n",
    "                self.s = \"class3\"\n",
    "                self.r += -2\n",
    "            else:\n",
    "                self.a = \"relax\"\n",
    "                self.s = \"sleep\"\n",
    "                self.r += 0\n",
    "                self.end = True\n",
    "        elif self.s == \"class3\":\n",
    "            if random.random()<=0.5:\n",
    "                self.a = \"study\"\n",
    "                self.s = \"pass\"\n",
    "                self.r += 10\n",
    "            else:\n",
    "                self.a = \"relax\"\n",
    "                self.r += 1\n",
    "                if random.random()<=0.4:\n",
    "                    self.s = \"class3\"\n",
    "                elif (random.random()>0.4) and (random.random()<=0.8):\n",
    "                    self.s = \"class2\"\n",
    "                else:\n",
    "                    self.s = \"class1\"\n",
    "#         elif self.s == \"pub\":\n",
    "#             if random.random()<=0.4:\n",
    "#                 self.s = \"class3\"\n",
    "#                 self.r += -2\n",
    "#             elif (random.random()>0.4) and (random.random()<=0.8):\n",
    "#                 self.s = \"class2\"\n",
    "#                 self.r += -2\n",
    "#             else:\n",
    "#                 self.s = \"class1\"\n",
    "#                 self.r += -2\n",
    "#         elif self.s == \"pass\":\n",
    "#             self.s = \"sleep\"\n",
    "#             self.r += 0\n",
    "#             self.end = True\n",
    "        elif self.s == \"sleep\":\n",
    "            self.end = True\n",
    "        else:\n",
    "            raise Exception(\"ERROR: Undefined transition!\")\n",
    "            \n",
    "    def reset(self):\n",
    "        \"\"\"\n",
    "        reset the mrp\n",
    "        \"\"\"\n",
    "        self.s = \"class1\"\n",
    "        self.r = 0\n",
    "        self.a = None\n",
    "        self.end = False"
   ]
  },
  {
   "cell_type": "code",
   "execution_count": 86,
   "metadata": {
    "collapsed": true
   },
   "outputs": [],
   "source": [
    "def episode2(s):\n",
    "    while s.end==False:\n",
    "        print(\"the state is \"+ s.s)\n",
    "        s.step()\n",
    "        print(\"the action is \" + s.a)\n",
    "        print(\"the return now is \" + str(s.r))\n",
    "        \n",
    "    print(\"The final return is \"+str(s.r))"
   ]
  },
  {
   "cell_type": "code",
   "execution_count": 87,
   "metadata": {},
   "outputs": [
    {
     "name": "stdout",
     "output_type": "stream",
     "text": [
      "the state is class1\n",
      "the action is study\n",
      "the return now is -2\n",
      "the state is class2\n",
      "the action is relax\n",
      "the return now is -2\n",
      "The final return is -2\n"
     ]
    }
   ],
   "source": [
    "s4 = Student2()\n",
    "episode2(s4)"
   ]
  },
  {
   "cell_type": "code",
   "execution_count": 89,
   "metadata": {},
   "outputs": [
    {
     "name": "stdout",
     "output_type": "stream",
     "text": [
      "the state is class1\n",
      "the action is study\n",
      "the return now is -2\n",
      "the state is class2\n",
      "the action is study\n",
      "the return now is -4\n",
      "the state is class3\n",
      "the action is relax\n",
      "the return now is -3\n",
      "the state is class3\n",
      "the action is relax\n",
      "the return now is -2\n",
      "the state is class1\n",
      "the action is study\n",
      "the return now is -4\n",
      "the state is class2\n",
      "the action is relax\n",
      "the return now is -4\n",
      "The final return is -4\n"
     ]
    }
   ],
   "source": [
    "s5 = Student2()\n",
    "episode2(s5)"
   ]
  },
  {
   "cell_type": "code",
   "execution_count": 97,
   "metadata": {},
   "outputs": [
    {
     "name": "stdout",
     "output_type": "stream",
     "text": [
      "the state is class1\n",
      "the action is relax\n",
      "the return now is -1\n",
      "the state is facebook\n",
      "the action is study\n",
      "the return now is -1\n",
      "the state is class1\n",
      "the action is relax\n",
      "the return now is -2\n",
      "the state is facebook\n",
      "the action is relax\n",
      "the return now is -3\n",
      "the state is facebook\n",
      "the action is relax\n",
      "the return now is -4\n",
      "the state is facebook\n",
      "the action is relax\n",
      "the return now is -5\n",
      "the state is facebook\n",
      "the action is relax\n",
      "the return now is -6\n",
      "the state is facebook\n",
      "the action is study\n",
      "the return now is -6\n",
      "the state is class1\n",
      "the action is relax\n",
      "the return now is -7\n",
      "the state is facebook\n",
      "the action is study\n",
      "the return now is -7\n",
      "the state is class1\n",
      "the action is relax\n",
      "the return now is -8\n",
      "the state is facebook\n",
      "the action is study\n",
      "the return now is -8\n",
      "the state is class1\n",
      "the action is study\n",
      "the return now is -10\n",
      "the state is class2\n",
      "the action is relax\n",
      "the return now is -10\n",
      "The final return is -10\n"
     ]
    }
   ],
   "source": [
    "s6 = Student2()\n",
    "episode2(s6)"
   ]
  },
  {
   "cell_type": "markdown",
   "metadata": {},
   "source": [
    "# Oil Lease Problem"
   ]
  },
  {
   "cell_type": "markdown",
   "metadata": {},
   "source": [
    "The policy is to pump with enhanced pressure when price is 30, to pump normally when price is 20 and never wait.\n",
    "\n",
    "I ll run the episode for 10000 times and get the average return. This return will be the lease price."
   ]
  },
  {
   "cell_type": "code",
   "execution_count": 68,
   "metadata": {
    "collapsed": true
   },
   "outputs": [],
   "source": [
    "import random\n",
    "random.seed(1)"
   ]
  },
  {
   "cell_type": "code",
   "execution_count": 69,
   "metadata": {},
   "outputs": [],
   "source": [
    "class Oil(object):\n",
    "    \n",
    "    def __init__(self):\n",
    "        self.s = 100 # s for storage of oil, not for state\n",
    "        self.state = \"year0\" # state for state space for problem\n",
    "        self.r = 0 # return\n",
    "        self.a = \"start\" # a for action for object\n",
    "        self.end = False\n",
    "        self.reset()\n",
    "    \n",
    "    def step(self):\n",
    "        if self.state == \"year0\":\n",
    "            if random.random()<=0.5: # P(price=20)=0.5\n",
    "                self.a = \"normal pump\"\n",
    "                self.r +=self.s*0.2*20 #pump*price\n",
    "                self.s = self.s*0.8\n",
    "                self.state = \"year1\"\n",
    "            else: #price = 30\n",
    "                self.a = \"enhanced pump\"\n",
    "                self.r += self.s*0.36*30\n",
    "                self.s = self.s*0.64\n",
    "                self.state = \"year1\"\n",
    "        elif self.state == \"year1\":\n",
    "            if random.random()<=0.5: #price=20\n",
    "                self.a = \"normal pump\"\n",
    "                self.r +=self.s*0.2*20\n",
    "                self.s = self.s*0.8\n",
    "                self.state = \"year2\"\n",
    "            else:\n",
    "                self.a = \"enhanced pump\"\n",
    "                self.r += self.s*0.36*30\n",
    "                self.s = self.s*0.64\n",
    "                self.state = \"year2\"\n",
    "        elif self.state == \"year2\":\n",
    "            if random.random()<=0.5: #price=20\n",
    "                self.a = \"normal pump\"\n",
    "                self.r +=self.s*0.2*20\n",
    "                self.s = self.s*0.8\n",
    "                self.state = \"year3\"\n",
    "                self.end = True\n",
    "            else:\n",
    "                self.a = \"enhanced pump\"\n",
    "                self.r += self.s*0.36*30\n",
    "                self.s = self.s*0.64\n",
    "                self.state = \"year3\"\n",
    "                self.end = True\n",
    "        \n",
    "    def reset(self):\n",
    "        \"\"\"\n",
    "        reset the episode\n",
    "        \"\"\"\n",
    "        self.s = 100 # s for storage of oil, not for state\n",
    "        self.state = \"year0\" # state for state space for problem\n",
    "        self.r = 0 # return\n",
    "        self.a = \"start\" # a for action for object\n",
    "        self.end = False"
   ]
  },
  {
   "cell_type": "code",
   "execution_count": 70,
   "metadata": {
    "collapsed": true
   },
   "outputs": [],
   "source": [
    "def episode3(s):\n",
    "    while s.end==False:\n",
    "#         print(\"the state is \"+ s.state)\n",
    "        s.step()\n",
    "#         print(\"the action is \" + s.a)\n",
    "#         print(\"the storage now is \" + str(s.s))\n",
    "#         print(\"the return now is \" + str(s.r))\n",
    "        \n",
    "#     print(\"The final return is \"+str(s.r))\n",
    "    return s.r"
   ]
  },
  {
   "cell_type": "code",
   "execution_count": 71,
   "metadata": {},
   "outputs": [
    {
     "data": {
      "text/plain": [
       "1816.96"
      ]
     },
     "execution_count": 71,
     "metadata": {},
     "output_type": "execute_result"
    }
   ],
   "source": [
    "# test for one episode\n",
    "s = Oil()\n",
    "episode3(s)"
   ]
  },
  {
   "cell_type": "code",
   "execution_count": 76,
   "metadata": {},
   "outputs": [],
   "source": [
    "# run simulation for 1000 times\n",
    "n = 10000\n",
    "l = [0]\n",
    "for i in range(n):\n",
    "    s = Oil()\n",
    "    l.append(episode3(s))"
   ]
  },
  {
   "cell_type": "code",
   "execution_count": 77,
   "metadata": {},
   "outputs": [
    {
     "name": "stdout",
     "output_type": "stream",
     "text": [
      "the price of lease is 1655.65247635245\n"
     ]
    }
   ],
   "source": [
    "price = sum(l) / float(len(l))\n",
    "print(\"the price of lease is \"+str(price))"
   ]
  },
  {
   "cell_type": "code",
   "execution_count": null,
   "metadata": {
    "collapsed": true
   },
   "outputs": [],
   "source": []
  }
 ],
 "metadata": {
  "kernelspec": {
   "display_name": "Python 3",
   "language": "python",
   "name": "python3"
  },
  "language_info": {
   "codemirror_mode": {
    "name": "ipython",
    "version": 3
   },
   "file_extension": ".py",
   "mimetype": "text/x-python",
   "name": "python",
   "nbconvert_exporter": "python",
   "pygments_lexer": "ipython3",
   "version": "3.6.1"
  }
 },
 "nbformat": 4,
 "nbformat_minor": 2
}
