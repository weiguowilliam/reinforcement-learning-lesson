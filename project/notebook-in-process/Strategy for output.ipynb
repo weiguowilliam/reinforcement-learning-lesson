{
 "cells": [
  {
   "cell_type": "code",
   "execution_count": 31,
   "metadata": {
    "collapsed": true
   },
   "outputs": [],
   "source": [
    "import numpy as np\n",
    "import random\n",
    "import time\n",
    "import pyautogui\n",
    "import math\n",
    "random.seed(1)"
   ]
  },
  {
   "cell_type": "code",
   "execution_count": 32,
   "metadata": {
    "collapsed": true
   },
   "outputs": [],
   "source": [
    "class Drawer(object):\n",
    "    y = 1 # y is discounting rate\n",
    "    ou = []\n",
    "    def __init__(self):\n",
    "        self.s = 0\n",
    "        #self.end = False\n",
    "        #self.reset()\n",
    "        self.angle = [0,math.pi/6,math.pi/12,-1*math.pi/6,-1*math.pi/12]\n",
    "        self.time = [0.2,0.4]\n",
    "        self.reset()\n",
    "    \n",
    "    def step(self):\n",
    "        #while self.s < 10:\n",
    "        #time.sleep(3)\n",
    "        #pyautogui.click()\n",
    "        #pyautogui.dragRel(100,100*math.tan(random.choice(self.angle)),duration=random.choice(self.t))\n",
    "        pyautogui.mouseDown()\n",
    "        a = random.choice(self.angle)\n",
    "        t = random.choice(self.time)\n",
    "        self.ou.append(self.mapout(a,t))\n",
    "        #print(self.mapout(a,t))\n",
    "        pyautogui.dragRel(100,100*math.tan(a),duration = t)\n",
    "        #print(\"angle is \" + str(a) + \" . Time is \" + str(t))\n",
    "#         pyautogui.dragRel(100,100*math.tan(random.choice(self.angle)),duration=random.choice(self.t))\n",
    "        pyautogui.mouseDown()\n",
    "        self.s += 1\n",
    "\n",
    "    def mapout(self,a,t):\n",
    "        if ((a==0)&(t==0.2)):\n",
    "            return 0\n",
    "        elif ((a==0)&(t==0.4)):\n",
    "            return 1\n",
    "        elif ((a== math.pi/6)&(t==0.2)):\n",
    "            return 2\n",
    "        elif ((a== math.pi/6)&(t==0.4)):\n",
    "            return 3\n",
    "        elif ((a== math.pi/12)&(t==0.2)):\n",
    "            return 4\n",
    "        elif ((a== math.pi/12)&(t==0.4)):\n",
    "            return 5\n",
    "        elif ((a== -1*math.pi/6)&(t==0.2)):\n",
    "            return 6\n",
    "        elif ((a== -1*math.pi/6)&(t==0.4)):\n",
    "            return 7\n",
    "        elif ((a== -1*math.pi/12)&(t==0.2)):\n",
    "            retur\n",
    "            n 8\n",
    "        elif ((a== -1*math.pi/12)&(t==0.4)):\n",
    "            return 9\n",
    "        else:\n",
    "            return 10\n",
    "                \n",
    "    def reset(self):\n",
    "        \"\"\"\n",
    "        reset the mrp\n",
    "        \"\"\"\n",
    "        self.s = 0\n",
    "        self.angle = [0,math.pi/6,math.pi/12,-1*math.pi/6,-1*math.pi/12]\n",
    "        self.t = [0.2,0.4]  \n",
    "        self.out = []\n",
    "    "
   ]
  },
  {
   "cell_type": "code",
   "execution_count": 33,
   "metadata": {
    "collapsed": true
   },
   "outputs": [],
   "source": [
    "def task(s):\n",
    "    for i in range(1):\n",
    "        s.reset()\n",
    "        pyautogui.moveTo(50,300-i*10,duration=1)\n",
    "        pyautogui.press('enter')\n",
    "        episode(s)\n",
    "        pyautogui.press('esc')\n",
    "        time.sleep(1)\n",
    "        pyautogui.press('p')\n",
    "        #time.sleep(4)\n",
    "        pyautogui.typewrite('p')\n",
    "    time.sleep(3)\n",
    "    pyautogui.press('n')\n",
    "    pyautogui.typewrite('n')\n",
    "        \n",
    "def episode(s):  \n",
    "    s.ou = []\n",
    "    #while s.s < 10:\n",
    "    while s.s < 8:\n",
    "        s.step()"
   ]
  },
  {
   "cell_type": "code",
   "execution_count": 17,
   "metadata": {
    "scrolled": true
   },
   "outputs": [
    {
     "name": "stdout",
     "output_type": "stream",
     "text": [
      "[7, 8, 4, 3, 4, 6, 3, 1]\n"
     ]
    }
   ],
   "source": [
    "time.sleep(2)\n",
    "s1 = Drawer()\n",
    "\n",
    "# for instruction part\n",
    "\n",
    "for i in range(20):\n",
    "    pyautogui.typewrite('p')\n",
    "\n",
    "task(s1)\n",
    "print(s1.ou)\n",
    "# each 3 lines in a blade\n",
    "# for i in range(2):\n",
    "#     task(s1)"
   ]
  },
  {
   "cell_type": "markdown",
   "metadata": {},
   "source": [
    "self.ou is the list that list the number for each action."
   ]
  },
  {
   "cell_type": "code",
   "execution_count": 18,
   "metadata": {},
   "outputs": [
    {
     "name": "stdout",
     "output_type": "stream",
     "text": [
      "[7, 8, 4, 3, 4, 6, 3, 1]\n"
     ]
    }
   ],
   "source": [
    "print(s1.ou)"
   ]
  },
  {
   "cell_type": "markdown",
   "metadata": {},
   "source": [
    "# Iteration function"
   ]
  },
  {
   "cell_type": "code",
   "execution_count": 34,
   "metadata": {
    "collapsed": true
   },
   "outputs": [],
   "source": [
    "def Q_matrix(Q, alpha , gamma, r, all_action ):\n",
    "   \n",
    "    num_a, num_s = Q.shape\n",
    "    print(num_s)\n",
    "    for i in range(num_s-2):\n",
    "        action = all_action[i]\n",
    "        #print(\"next_action\")\n",
    "        next_action = all_action[i+1]\n",
    "        #print(\"R-t\")\n",
    "        R_t = (gamma**(7-i)) * r \n",
    "        #print(\"Q\")\n",
    "        Q[action,i] =  Q[action,i] + alpha * (R_t+(gamma**(8-i)) * 0 -  Q[action,i])\n",
    "#         Q[action,i] =  Q[action,i] + alpha * (R_t+(gamma**(8-i)) * Q[next_action,i+1] -  Q[action,i])\n",
    "            \n",
    "        print(i)\n",
    "        \n",
    "    return Q"
   ]
  },
  {
   "cell_type": "markdown",
   "metadata": {},
   "source": [
    "# Run the program with function of iteration"
   ]
  },
  {
   "cell_type": "code",
   "execution_count": 29,
   "metadata": {
    "collapsed": true
   },
   "outputs": [],
   "source": [
    "#initialize q matrix for iteration\n",
    "Q = np.zeros([10,9])\n",
    "\n",
    "# run the episode\n",
    "time.sleep(2)\n",
    "s1 = Drawer()\n",
    "\n",
    "# for instruction part\n",
    "\n",
    "for i in range(20):\n",
    "    pyautogui.typewrite('p')\n",
    "\n",
    "task(s1)\n",
    "\n",
    "\n",
    "\n"
   ]
  },
  {
   "cell_type": "code",
   "execution_count": 30,
   "metadata": {},
   "outputs": [
    {
     "name": "stdout",
     "output_type": "stream",
     "text": [
      "9\n",
      "0\n",
      "1\n",
      "2\n",
      "3\n",
      "4\n",
      "5\n",
      "6\n",
      "[[   0.            0.            0.          -80.37225       0.            0.\n",
      "     0.            0.            0.        ]\n",
      " [   0.            0.            0.            0.            0.            0.\n",
      "     0.            0.            0.        ]\n",
      " [   0.          -65.1015225     0.            0.            0.            0.\n",
      "     0.            0.            0.        ]\n",
      " [   0.            0.            0.            0.            0.            0.\n",
      "     0.            0.            0.        ]\n",
      " [   0.            0.            0.            0.            0.            0.\n",
      "     0.            0.            0.        ]\n",
      " [   0.            0.            0.            0.            0.            0.\n",
      "     0.            0.            0.        ]\n",
      " [   0.            0.            0.            0.            0.            0.\n",
      "     0.            0.            0.        ]\n",
      " [   0.            0.            0.            0.            0.          -99.225\n",
      "     0.            0.            0.        ]\n",
      " [   0.            0.          -72.335025      0.          -89.3025        0.\n",
      "     0.            0.            0.        ]\n",
      " [ -58.59137025    0.            0.            0.            0.            0.\n",
      "  -110.25          0.            0.        ]]\n"
     ]
    }
   ],
   "source": [
    "#initialize q matrix for iteration\n",
    "Q = np.zeros([10,9])\n",
    "\n",
    "print(Q_matrix(Q, all_action = s1.ou, r = -245, alpha = 0.5, gamma = 0.9))"
   ]
  },
  {
   "cell_type": "code",
   "execution_count": 24,
   "metadata": {},
   "outputs": [
    {
     "name": "stdout",
     "output_type": "stream",
     "text": [
      "[3, 9, 1, 8, 3, 5, 1, 1]\n"
     ]
    }
   ],
   "source": [
    "#use the iterated value for Q\n",
    "\n",
    "\n",
    "# run the episode\n",
    "time.sleep(2)\n",
    "s1 = Drawer()\n",
    "\n",
    "# for instruction part\n",
    "\n",
    "for i in range(20):\n",
    "    pyautogui.typewrite('p')\n",
    "\n",
    "task(s1)\n",
    "print(s1.ou)\n",
    "\n",
    "\n"
   ]
  },
  {
   "cell_type": "code",
   "execution_count": 25,
   "metadata": {},
   "outputs": [
    {
     "name": "stdout",
     "output_type": "stream",
     "text": [
      "9\n",
      "next_action\n",
      "R-t\n",
      "Q\n",
      "0\n",
      "next_action\n",
      "R-t\n",
      "Q\n",
      "1\n",
      "next_action\n",
      "R-t\n",
      "Q\n",
      "2\n",
      "next_action\n",
      "R-t\n",
      "Q\n",
      "3\n",
      "next_action\n",
      "R-t\n",
      "Q\n",
      "4\n",
      "next_action\n",
      "R-t\n",
      "Q\n",
      "5\n",
      "next_action\n",
      "R-t\n",
      "Q\n",
      "6\n",
      "[[   0.            0.            0.            0.            0.         -132.435\n",
      "     0.            0.            0.        ]\n",
      " [   0.            0.            0.            0.            0.            0.\n",
      "     0.            0.            0.        ]\n",
      " [   0.            0.            0.            0.            0.            0.\n",
      "     0.            0.            0.        ]\n",
      " [   0.            0.            0.            0.            0.            0.\n",
      "  -147.15          0.            0.        ]\n",
      " [   0.          -86.8906035   -96.545115      0.            0.            0.\n",
      "     0.            0.            0.        ]\n",
      " [   0.            0.          -72.335025      0.         -119.1915        0.\n",
      "     0.            0.            0.        ]\n",
      " [ -78.20154315    0.            0.            0.            0.            0.\n",
      "  -110.25          0.            0.        ]\n",
      " [   0.            0.            0.            0.            0.            0.\n",
      "     0.            0.            0.        ]\n",
      " [   0.          -65.1015225     0.         -107.27235       0.          -99.225\n",
      "     0.            0.            0.        ]\n",
      " [ -58.59137025    0.            0.          -80.37225     -89.3025        0.\n",
      "     0.            0.            0.        ]]\n"
     ]
    }
   ],
   "source": [
    "s1.ou = [6, 4, 4, 8, 5, 0, 3, 8]\n",
    "#use the iterated value for Q\n",
    "print(Q_matrix(Q, all_action = s1.ou, r = -218, alpha = 0.5, gamma = 0.9))"
   ]
  },
  {
   "cell_type": "code",
   "execution_count": null,
   "metadata": {
    "collapsed": true
   },
   "outputs": [],
   "source": []
  }
 ],
 "metadata": {
  "kernelspec": {
   "display_name": "Python 3",
   "language": "python",
   "name": "python3"
  },
  "language_info": {
   "codemirror_mode": {
    "name": "ipython",
    "version": 3
   },
   "file_extension": ".py",
   "mimetype": "text/x-python",
   "name": "python",
   "nbconvert_exporter": "python",
   "pygments_lexer": "ipython3",
   "version": "3.6.1"
  }
 },
 "nbformat": 4,
 "nbformat_minor": 2
}
