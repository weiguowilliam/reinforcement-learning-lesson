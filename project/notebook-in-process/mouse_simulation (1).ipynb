{
 "cells": [
  {
   "cell_type": "markdown",
   "metadata": {},
   "source": [
    "https://pyautogui.readthedocs.io/en/latest/install.html install instrument"
   ]
  },
  {
   "cell_type": "markdown",
   "metadata": {},
   "source": [
    "https://python.freelycode.com/contribution/detail/579 use guide"
   ]
  },
  {
   "cell_type": "markdown",
   "metadata": {},
   "source": [
    "## Simple commands"
   ]
  },
  {
   "cell_type": "code",
   "execution_count": 3,
   "metadata": {},
   "outputs": [
    {
     "name": "stdout",
     "output_type": "stream",
     "text": [
      "(1280, 800)\n"
     ]
    }
   ],
   "source": [
    "import time\n",
    "import pyautogui\n",
    "print(pyautogui.size())"
   ]
  },
  {
   "cell_type": "markdown",
   "metadata": {},
   "source": [
    "move the mouse.\n",
    "To is to destination.\n",
    "Rel is relatively."
   ]
  },
  {
   "cell_type": "code",
   "execution_count": 4,
   "metadata": {
    "collapsed": true
   },
   "outputs": [],
   "source": [
    "pyautogui.moveTo(100,100,duration=4)"
   ]
  },
  {
   "cell_type": "markdown",
   "metadata": {},
   "source": [
    "pyautogui.moveTo(100,100,duration=4)"
   ]
  },
  {
   "cell_type": "code",
   "execution_count": 9,
   "metadata": {
    "collapsed": true
   },
   "outputs": [],
   "source": [
    "pyautogui.moveRel(100,100,duration=4)"
   ]
  },
  {
   "cell_type": "markdown",
   "metadata": {},
   "source": [
    "click the mouse"
   ]
  },
  {
   "cell_type": "code",
   "execution_count": 5,
   "metadata": {
    "collapsed": true
   },
   "outputs": [],
   "source": [
    "pyautogui.click(120,120)"
   ]
  },
  {
   "cell_type": "markdown",
   "metadata": {},
   "source": [
    "**draw the mouse**"
   ]
  },
  {
   "cell_type": "markdown",
   "metadata": {},
   "source": [
    "dragTo is to the destination.\n",
    "dragRel is to drag relatively."
   ]
  },
  {
   "cell_type": "code",
   "execution_count": 8,
   "metadata": {
    "collapsed": true
   },
   "outputs": [],
   "source": [
    "pyautogui.dragTo(100,0,duration=2)"
   ]
  },
  {
   "cell_type": "markdown",
   "metadata": {},
   "source": [
    "## Simulate the game"
   ]
  },
  {
   "cell_type": "markdown",
   "metadata": {},
   "source": [
    "### Draw 1 line "
   ]
  },
  {
   "cell_type": "code",
   "execution_count": 77,
   "metadata": {
    "collapsed": true
   },
   "outputs": [],
   "source": [
    "time.sleep(3)\n",
    "pyautogui.click()\n",
    "\n",
    "pyautogui.dragRel(690,0,duration=1)\n",
    "pyautogui.typewrite('p')"
   ]
  },
  {
   "cell_type": "markdown",
   "metadata": {},
   "source": [
    "### the loading part"
   ]
  },
  {
   "cell_type": "code",
   "execution_count": 4,
   "metadata": {},
   "outputs": [],
   "source": [
    "time.sleep(3)\n",
    "for i in range(20):\n",
    "#     time.sleep(0.5)\n",
    "    pyautogui.typewrite('p')\n",
    "\n",
    "pyautogui.click()\n",
    "#pyautogui.press('enter')\n",
    "# pyautogui.click()"
   ]
  },
  {
   "cell_type": "markdown",
   "metadata": {},
   "source": [
    "### Only the drawing part "
   ]
  },
  {
   "cell_type": "code",
   "execution_count": 27,
   "metadata": {
    "collapsed": true
   },
   "outputs": [],
   "source": [
    "time.sleep(3)\n",
    "pyautogui.click()\n",
    "\n",
    "pyautogui.dragRel(690,0,duration=1)\n",
    "pyautogui.typewrite('p')\n",
    "\n",
    "pyautogui.moveRel(-690,-15,duration=1)\n",
    "pyautogui.dragRel(690,0,duration=1)\n",
    "pyautogui.click()\n",
    "\n",
    "pyautogui.typewrite('p')\n",
    "\n",
    "pyautogui.moveRel(-690,-15,duration=1)\n",
    "pyautogui.dragRel(690,0,duration=1)\n",
    "pyautogui.click()\n",
    "\n",
    "pyautogui.typewrite('p')\n",
    "time.sleep(1)\n",
    "pyautogui.typewrite('n')"
   ]
  },
  {
   "cell_type": "markdown",
   "metadata": {},
   "source": [
    "### the whole process"
   ]
  },
  {
   "cell_type": "code",
   "execution_count": 41,
   "metadata": {
    "collapsed": true
   },
   "outputs": [],
   "source": [
    "#better to run under the environment of english inputing(instead of chinese inputting)\n",
    "\n",
    "time.sleep(3)\n",
    "for i in range(20):\n",
    "#     time.sleep(0.5)\n",
    "    pyautogui.typewrite('p')\n",
    "\n",
    "pyautogui.click()\n",
    "pyautogui.press('enter')\n",
    "pyautogui.click()\n",
    "\n",
    "\n",
    "time.sleep(3)\n",
    "pyautogui.click()\n",
    "\n",
    "pyautogui.dragRel(690,0,duration=1)\n",
    "pyautogui.typewrite('p')\n",
    "\n",
    "pyautogui.moveRel(-690,-15,duration=1)\n",
    "pyautogui.dragRel(690,0,duration=1)\n",
    "pyautogui.click()\n",
    "\n",
    "pyautogui.typewrite('p')\n",
    "\n",
    "pyautogui.moveRel(-690,-15,duration=1)\n",
    "pyautogui.dragRel(690,0,duration=1)\n",
    "pyautogui.click()\n",
    "\n",
    "pyautogui.typewrite('p')\n",
    "time.sleep(1)\n",
    "pyautogui.typewrite('n')"
   ]
  },
  {
   "cell_type": "code",
   "execution_count": 44,
   "metadata": {
    "collapsed": true
   },
   "outputs": [],
   "source": [
    "time.sleep(3)\n",
    "pyautogui.dragRel(100,0,duration=0.00000001)"
   ]
  },
  {
   "cell_type": "code",
   "execution_count": 46,
   "metadata": {
    "collapsed": true
   },
   "outputs": [],
   "source": [
    "time.sleep(3)\n",
    "for i in range(10):\n",
    "    pyautogui.dragRel(100,0,duration=0.00000001)\n",
    "#     time.sleep(1)"
   ]
  },
  {
   "cell_type": "code",
   "execution_count": null,
   "metadata": {
    "collapsed": true
   },
   "outputs": [],
   "source": []
  }
 ],
 "metadata": {
  "kernelspec": {
   "display_name": "Python 3",
   "language": "python",
   "name": "python3"
  },
  "language_info": {
   "codemirror_mode": {
    "name": "ipython",
    "version": 3
   },
   "file_extension": ".py",
   "mimetype": "text/x-python",
   "name": "python",
   "nbconvert_exporter": "python",
   "pygments_lexer": "ipython3",
   "version": "3.6.1"
  }
 },
 "nbformat": 4,
 "nbformat_minor": 2
}
