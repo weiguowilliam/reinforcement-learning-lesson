{
 "cells": [
  {
   "cell_type": "code",
   "execution_count": 1,
   "metadata": {},
   "outputs": [],
   "source": [
    "import numpy as np\n",
    "import random\n",
    "import time\n",
    "import pyautogui\n",
    "import math\n",
    "import glob\n",
    "import pandas as pd\n",
    "import os\n",
    "import json as js\n",
    "random.seed(1)"
   ]
  },
  {
   "cell_type": "markdown",
   "metadata": {},
   "source": [
    "## Drawer Class"
   ]
  },
  {
   "cell_type": "code",
   "execution_count": 2,
   "metadata": {
    "collapsed": true
   },
   "outputs": [],
   "source": [
    "class Drawer(object):\n",
    "    def __init__(self):\n",
    "        self.s = 0\n",
    "        self.states = []\n",
    "        self.actions = []\n",
    "        self.rewards = []\n",
    "        self.policy = np.ones ((24,12))/12\n",
    "        self.reset()\n",
    "        self.y = 0\n",
    "        self.t = 0\n",
    "        self.test_report = \"/Users/guowei/Downloads\"\n",
    "        \n",
    "    def reset(self):\n",
    "        \"\"\"\n",
    "        reset the mrp\n",
    "        \"\"\"\n",
    "        self.states = []\n",
    "        self.actions = []\n",
    "        self.rewards = []\n",
    "        self.s = 0\n",
    "        self.policy = np.ones ((24,12))/12\n",
    "        self.y = 0\n",
    "        self.t = 0\n",
    "    \n",
    "    def step(self):\n",
    "        self.y, self.t = self.transaction(s = self.s, policy = self.policy)\n",
    "        pyautogui.mouseDown()\n",
    "#         pyautogui.dragTo(150+80*((self.s%9)+1),300-self.y,duration = self.t) # can change to dragTo if needed\n",
    "        pyautogui.dragTo(150+80*((self.s%8)+1),400-self.y,duration = self.t) # can change to dragTo if needed\n",
    "        self.s += 1\n",
    "        self.actions.append((self.y,self.t))\n",
    "        self.states.append(self.s)\n",
    "        self.rewards.append(0.0)\n",
    "        \n",
    "        \n",
    "    #To-do\n",
    "#     def transaction(self):\n",
    "#         return 1,1\n",
    "    \n",
    "    def task(self):\n",
    "        for i in range(3):\n",
    "            pyautogui.moveTo(150,350-i*20,duration=0.3)\n",
    "            pyautogui.press('enter')\n",
    "            self.episode()\n",
    "            self.actions.append((-1,0.1))\n",
    "            #self.s = 0 # state becomes 0\n",
    "            pyautogui.press('esc')\n",
    "            time.sleep(0.5)\n",
    "            pyautogui.press('p')\n",
    "            pyautogui.typewrite('p')\n",
    "            time.sleep(2)\n",
    "            if (i == 0) or (i == 1):\n",
    "                r = self.readreward()\n",
    "            if (i == 2):\n",
    "                r = self.readreward2()\n",
    "            #self.deletefile()\n",
    "            self.rewards[-1] = r\n",
    "            self.rewards.append(0.0) #reward of step to go to the beginning of next line\n",
    "            #self.rewards.append(r)\n",
    "#         self.states.append(25)\n",
    "#         self.actions.remove(self.actions[-1])\n",
    "        self.states.insert(8,8.5)\n",
    "        self.states.insert(17,17.5)\n",
    "        self.states.insert(26,25.5)\n",
    "        self.deletefile()\n",
    "        time.sleep(1.5)\n",
    "        pyautogui.press('n')\n",
    "        pyautogui.typewrite('n')\n",
    "        pyautogui.press('n')\n",
    "        \n",
    "    def episode(self):\n",
    "        i = 0\n",
    "        while i<8:\n",
    "            self.step()\n",
    "            #pyautogui.hotkey('shift', 'command', '3')\n",
    "            i += 1\n",
    "#         self.states.append(self.s+1.0)\n",
    "    \n",
    "    def prepare(self):\n",
    "        for i in range(20):\n",
    "            pyautogui.typewrite('p')\n",
    "            \n",
    "    def output(self):\n",
    "        return self.states, self.actions, self.rewards\n",
    "    \n",
    "    def transaction(self,s,policy):\n",
    "        #policy = np.ones ((24,12))/12\n",
    "        a1 = 0\n",
    "        a2 = 24\n",
    "        a3 = 48\n",
    "        a4 = 72\n",
    "        a5 = 96\n",
    "        a6 = 120\n",
    "        ran = random.random()\n",
    "        if ran < policy[s][0]:\n",
    "            return a1, 0.1\n",
    "\n",
    "        elif ran < policy[s][0] + policy[s][1]:\n",
    "            return a2, 0.1\n",
    "\n",
    "        elif ran < policy[s][0] + policy[s][1] + policy[s][2]:\n",
    "            return a3, 0.1\n",
    "\n",
    "        elif ran < policy[s][0] + policy[s][1] + policy[s][2] + policy[s][3]:\n",
    "            return a4, 0.1\n",
    "\n",
    "        elif ran < policy[s][0] + policy[s][1] + policy[s][2] + policy[s][3] + policy[s][4]:\n",
    "            return a5, 0.1\n",
    "\n",
    "        elif ran < policy[s][0] + policy[s][1] + policy[s][2] + policy[s][3] + policy[s][4] + policy[s][5]:\n",
    "            return a6, 0.1\n",
    "\n",
    "        elif ran < policy[s][0] + policy[s][1] + policy[s][2] + policy[s][3] + policy[s][4] + policy[s][5] + policy[s][6]:\n",
    "            return a1, 0.2\n",
    "\n",
    "        elif ran < policy[s][0] + policy[s][1] + policy[s][2] + policy[s][3] + policy[s][4] + policy[s][5] + policy[s][6] + policy[s][7]:\n",
    "            return a2, 0.2\n",
    "\n",
    "        elif ran < policy[s][0] + policy[s][1] + policy[s][2] + policy[s][3] + policy[s][4] + policy[s][5] + policy[s][6] + policy[s][7]:\n",
    "            return a2, 0.2\n",
    "\n",
    "        elif ran < policy[s][0] + policy[s][1] + policy[s][2] + policy[s][3] + policy[s][4] + policy[s][5] + policy[s][6] + policy[s][7] + policy[s][8]:\n",
    "            return a3, 0.2\n",
    "\n",
    "        elif ran < policy[s][0] + policy[s][1] + policy[s][2] + policy[s][3] + policy[s][4] + policy[s][5] + policy[s][6] + policy[s][7] + policy[s][8] + policy[s][9]:\n",
    "            return a4, 0.2\n",
    "\n",
    "        elif ran < policy[s][0] + policy[s][1] + policy[s][2] + policy[s][3] + policy[s][4] + policy[s][5] + policy[s][6] + policy[s][7] + policy[s][8] + policy[s][9] + policy[s][10]:\n",
    "            return a5, 0.2\n",
    "\n",
    "        else:\n",
    "            return a6, 0.2\n",
    "        \n",
    "    def readreward(self):\n",
    "        search_dir = \"/Users/guowei/Downloads/js\"\n",
    "        os.chdir(search_dir)\n",
    "        files = filter(os.path.isfile, os.listdir(search_dir))\n",
    "        files = [os.path.join(search_dir, f) for f in files] # add path to each file\n",
    "        files.sort(key=lambda x: os.path.getmtime(x))\n",
    "\n",
    "        new_file = files[-1]\n",
    "#         print(lists)\n",
    "        path=os.path.join(search_dir,new_file)\n",
    "#         print(path)\n",
    "        f = open(path,'r')\n",
    "        load_dict = js.loads(f.read().encode('utf-8').strip())\n",
    "        reward = load_dict['reward']\n",
    "        return reward\n",
    "    \n",
    "    def readreward2(self):\n",
    "        search_dir = \"/Users/guowei/Downloads/js\"\n",
    "        os.chdir(search_dir)\n",
    "        files = filter(os.path.isfile, os.listdir(search_dir))\n",
    "        files = [os.path.join(search_dir, f) for f in files] # add path to each file\n",
    "        files.sort(key=lambda x: os.path.getmtime(x))\n",
    "        new_file = files[-1]\n",
    "        path=os.path.join(search_dir,new_file)\n",
    "        f = open(path,'r')\n",
    "        load_dict = js.loads(f.read().encode('utf-8').strip())\n",
    "        final_score = load_dict['updated_score']\n",
    "        \n",
    "        old_file = files[-3] #second file\n",
    "        path1 = os.path.join(search_dir,old_file)\n",
    "        f1 = open(path1,'r')\n",
    "        second_score = js.loads(f1.read())['updated_score']\n",
    "        reward = final_score - second_score\n",
    "        return reward\n",
    "    \n",
    "    def deletefile(self):\n",
    "        test_report = \"/Users/guowei/Downloads/js\"\n",
    "        lists = os.listdir(test_report)\n",
    "#         filelist = [ f for f in lists ]\n",
    "        for f in lists:\n",
    "#             print(f)\n",
    "            os.remove(os.path.join(test_report, f))\n",
    "    \n",
    "        \n",
    "        "
   ]
  },
  {
   "cell_type": "markdown",
   "metadata": {},
   "source": [
    "## Test&Run"
   ]
  },
  {
   "cell_type": "code",
   "execution_count": 229,
   "metadata": {
    "scrolled": true
   },
   "outputs": [
    {
     "name": "stdout",
     "output_type": "stream",
     "text": [
      "22.059592962265015\n"
     ]
    }
   ],
   "source": [
    "time.sleep(2)\n",
    "\n",
    "s1 = Drawer()\n",
    "\n",
    "s1.prepare()\n",
    "a = time.time()\n",
    "s1.task()\n",
    "b = time.time() - a\n",
    "print(b)\n",
    "states, actions, rewards = s1.output()"
   ]
  },
  {
   "cell_type": "markdown",
   "metadata": {},
   "source": [
    "## Run several tasks"
   ]
  },
  {
   "cell_type": "code",
   "execution_count": 11,
   "metadata": {
    "scrolled": true
   },
   "outputs": [
    {
     "name": "stdout",
     "output_type": "stream",
     "text": [
      "0\n",
      "1\n",
      "2\n",
      "3\n",
      "4\n",
      "5\n",
      "6\n",
      "7\n",
      "8\n",
      "9\n",
      "232.75855827331543\n"
     ]
    }
   ],
   "source": [
    "time.sleep(2)\n",
    "\n",
    "s = []\n",
    "a = []\n",
    "r = []\n",
    "\n",
    "start_time = time.time()\n",
    "for i in range(10):\n",
    "    print(i)\n",
    "    s1 = Drawer()\n",
    "    s1.prepare()\n",
    "    s1.task()\n",
    "    states, actions, rewards = s1.output()\n",
    "    s = s + states\n",
    "    a = a + actions\n",
    "    r = r + rewards\n",
    "\n",
    "elapsed_time = time.time() - start_time\n",
    "print(elapsed_time)\n",
    "data_out = pd.DataFrame(\n",
    "    {'states': s,\n",
    "     'actions': a,\n",
    "     'rewards': r\n",
    "    })\n",
    "\n",
    "data_out.to_csv('/Users/guowei/Desktop/reinforcement-learning-game/try3.csv')"
   ]
  },
  {
   "cell_type": "markdown",
   "metadata": {},
   "source": [
    "## Output to CSV"
   ]
  },
  {
   "cell_type": "code",
   "execution_count": 265,
   "metadata": {
    "collapsed": true
   },
   "outputs": [],
   "source": [
    "data_out = pd.DataFrame(\n",
    "    {'states': s,\n",
    "     'actions': a,\n",
    "     'rewards': r\n",
    "    })"
   ]
  },
  {
   "cell_type": "code",
   "execution_count": 266,
   "metadata": {
    "collapsed": true
   },
   "outputs": [],
   "source": [
    "data_out.to_csv('/Users/guowei/Desktop/reinforcement-learning-game/try1.csv')"
   ]
  },
  {
   "cell_type": "code",
   "execution_count": 8,
   "metadata": {
    "collapsed": true
   },
   "outputs": [],
   "source": [
    "time.sleep(3)\n",
    "pyautogui.moveTo(750,350,duration=0.3)"
   ]
  },
  {
   "cell_type": "code",
   "execution_count": null,
   "metadata": {
    "collapsed": true
   },
   "outputs": [],
   "source": []
  }
 ],
 "metadata": {
  "kernelspec": {
   "display_name": "Python 3",
   "language": "python",
   "name": "python3"
  },
  "language_info": {
   "codemirror_mode": {
    "name": "ipython",
    "version": 3
   },
   "file_extension": ".py",
   "mimetype": "text/x-python",
   "name": "python",
   "nbconvert_exporter": "python",
   "pygments_lexer": "ipython3",
   "version": "3.4.5"
  }
 },
 "nbformat": 4,
 "nbformat_minor": 2
}
