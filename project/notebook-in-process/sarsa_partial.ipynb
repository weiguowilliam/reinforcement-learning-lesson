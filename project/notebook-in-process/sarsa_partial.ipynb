{
 "cells": [
  {
   "cell_type": "code",
   "execution_count": null,
   "metadata": {
    "collapsed": true
   },
   "outputs": [],
   "source": [
    "import numpy as np"
   ]
  },
  {
   "cell_type": "code",
   "execution_count": null,
   "metadata": {},
   "outputs": [],
   "source": [
    "E = np.zeros((28,12))\n",
    "initial_Q = np.zeros([28,12])\n",
    "num_states, num_actions = initial_Q.shape\n",
    "num_episodes = 10000\n",
    "\n",
    "gamma = 1\n",
    "alpha = 0.5\n",
    "epsilon = 0.01\n",
    "lambda_ = 0.9\n",
    "\n",
    "\n",
    "initial_state = 0\n",
    "initial_action = actions[0][0]\n",
    "initial_speed = actions[0][1]\n",
    "Q = initial_Q\n",
    "\n",
    "\n"
   ]
  },
  {
   "cell_type": "code",
   "execution_count": null,
   "metadata": {
    "collapsed": true
   },
   "outputs": [],
   "source": [
    "this_state = initial_state\n",
    "this_action = initial_action\n",
    "this_speed = initial_speed\n",
    "\n",
    "\n",
    "while this_state <= 22:\n",
    "    #print(str(ep)+\" episodes\")\n",
    "    if (this_state == 8):\n",
    "        R = rewards[0]\n",
    "    elif this_state == 17:\n",
    "        R = rewards[1]\n",
    "    elif this_state == 25:\n",
    "        R = rewards[2]\n",
    "    else:\n",
    "        R = 0\n",
    "    next_state = this_state + 1\n",
    "    next_action = actions[next_state+1][0]  \n",
    "    next_speed = actions[next_state+1][1]\n",
    "    print(\"next_state \"+str(next_state))\n",
    "    print(\"next_action \"+str(next_action))\n",
    "    next_action_index = next_action%30\n",
    "    this_action_index = this_action%30\n",
    "    delta = R + gamma * Q[next_state, next_action_index] - Q[this_state, this_action_index]\n",
    "    E[this_state,this_action_index] += 1\n",
    "    \n",
    "    for ss in range(num_states):\n",
    "        for aa in range(num_actions):\n",
    "            Q[ss,aa] += alpha*delta*E[ss,aa]\n",
    "            E[ss,aa] = E[ss,aa]*gamma*lambda_\n",
    "    \n",
    "    this_action = next_action\n",
    "    this_state = next_state\n",
    "    \n",
    "print(Q)"
   ]
  }
 ],
 "metadata": {
  "kernelspec": {
   "display_name": "Python 3",
   "language": "python",
   "name": "python3"
  },
  "language_info": {
   "codemirror_mode": {
    "name": "ipython",
    "version": 3
   },
   "file_extension": ".py",
   "mimetype": "text/x-python",
   "name": "python",
   "nbconvert_exporter": "python",
   "pygments_lexer": "ipython3",
   "version": "3.6.1"
  }
 },
 "nbformat": 4,
 "nbformat_minor": 2
}
