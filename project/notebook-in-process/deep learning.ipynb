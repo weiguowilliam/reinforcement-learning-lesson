{
 "cells": [
  {
   "cell_type": "code",
   "execution_count": 9,
   "metadata": {},
   "outputs": [],
   "source": [
    "import tensorflow as wt\n",
    "import gym\n",
    "import numpy as np\n",
    "import random\n",
    "from collections import deque"
   ]
  },
  {
   "cell_type": "markdown",
   "metadata": {},
   "source": [
    "主函数"
   ]
  },
  {
   "cell_type": "code",
   "execution_count": 10,
   "metadata": {},
   "outputs": [],
   "source": [
    "#Hypte Parameters\n",
    "ENV_NAME = 'CartPole-v0'\n",
    "EPISODE = 10000\n",
    "STEP = 300"
   ]
  },
  {
   "cell_type": "code",
   "execution_count": 11,
   "metadata": {},
   "outputs": [],
   "source": [
    "def main():\n",
    "    #initial openai gym env and dqn agent\n",
    "    env = gym.make(ENV_NAME)\n",
    "    agent = DQN(env)\n",
    "    \n",
    "    for epidosde in range(EPISODE):\n",
    "        #initialize task\n",
    "        state = env.reset()\n",
    "        #train\n",
    "        for step in range(STEP):\n",
    "            action = agent.egreedy_action(state)\n",
    "            next_state,reward,done,_ = env.step(action)\n",
    "            #define reward for agent\n",
    "            reward_agent = -1 if done else 0.1\n",
    "            "
   ]
  },
  {
   "cell_type": "code",
   "execution_count": null,
   "metadata": {},
   "outputs": [],
   "source": []
  }
 ],
 "metadata": {
  "kernelspec": {
   "display_name": "Python 3",
   "language": "python",
   "name": "python3"
  },
  "language_info": {
   "codemirror_mode": {
    "name": "ipython",
    "version": 3
   },
   "file_extension": ".py",
   "mimetype": "text/x-python",
   "name": "python",
   "nbconvert_exporter": "python",
   "pygments_lexer": "ipython3",
   "version": "3.4.5"
  }
 },
 "nbformat": 4,
 "nbformat_minor": 2
}
